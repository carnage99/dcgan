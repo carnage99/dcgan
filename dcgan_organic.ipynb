{
  "nbformat": 4,
  "nbformat_minor": 0,
  "metadata": {
    "colab": {
      "name": "dcgan_organic.ipynb",
      "provenance": [],
      "mount_file_id": "1BFiKrjSehgG1I-beLf6OwvGfsvxJ2w3e",
      "authorship_tag": "ABX9TyP4cG7Ho1b0nfIapQQMFXwz",
      "include_colab_link": true
    },
    "kernelspec": {
      "name": "python3",
      "display_name": "Python 3"
    },
    "accelerator": "GPU"
  },
  "cells": [
    {
      "cell_type": "markdown",
      "metadata": {
        "id": "view-in-github",
        "colab_type": "text"
      },
      "source": [
        "<a href=\"https://colab.research.google.com/github/carnage99/dcgan/blob/main/dcgan_organic.ipynb\" target=\"_parent\"><img src=\"https://colab.research.google.com/assets/colab-badge.svg\" alt=\"Open In Colab\"/></a>"
      ]
    },
    {
      "cell_type": "code",
      "metadata": {
        "colab": {
          "base_uri": "https://localhost:8080/"
        },
        "id": "cw8AJ227tvur",
        "outputId": "6c120963-c62b-4398-b00f-49b56a15e966"
      },
      "source": [
        "from google.colab import drive\r\n",
        "drive.mount('/content/drive')"
      ],
      "execution_count": null,
      "outputs": [
        {
          "output_type": "stream",
          "text": [
            "Drive already mounted at /content/drive; to attempt to forcibly remount, call drive.mount(\"/content/drive\", force_remount=True).\n"
          ],
          "name": "stdout"
        }
      ]
    },
    {
      "cell_type": "code",
      "metadata": {
        "id": "VCzDDCc-t1wX"
      },
      "source": [
        "import tensorflow as tf\r\n",
        "from tensorflow.keras.layers import Input, Reshape, Dropout, Dense \r\n",
        "from tensorflow.keras.layers import Flatten, BatchNormalization\r\n",
        "from tensorflow.keras.layers import Activation, ZeroPadding2D\r\n",
        "from tensorflow.keras.layers import LeakyReLU\r\n",
        "from tensorflow.keras.layers import UpSampling2D, Conv2D\r\n",
        "from tensorflow.keras.models import Sequential, Model, load_model\r\n",
        "from tensorflow.keras.optimizers import Adam\r\n",
        "import numpy as np\r\n",
        "import cv2\r\n",
        "from PIL import Image\r\n",
        "from tqdm import tqdm\r\n",
        "import os \r\n",
        "import os.path\r\n",
        "import time\r\n",
        "import matplotlib.pyplot as plt"
      ],
      "execution_count": null,
      "outputs": []
    },
    {
      "cell_type": "code",
      "metadata": {
        "colab": {
          "base_uri": "https://localhost:8080/"
        },
        "id": "cLQd92AFuCva",
        "outputId": "781ada57-57f4-4e18-b6f4-29c1f873abda"
      },
      "source": [
        "GENERATE_RES = 3 # Generation resolution factor \r\n",
        "# (1=32, 2=64, 3=96, 4=128, etc.)\r\n",
        "GENERATE_SQUARE = 32 * GENERATE_RES # rows/cols (should be square)\r\n",
        "IMAGE_CHANNELS = 3\r\n",
        "\r\n",
        "\r\n",
        "NUMBER_IMAGES = 28\r\n",
        "\r\n",
        "# Size vector to generate images from\r\n",
        "SEED_SIZE = 100\r\n",
        "\r\n",
        "# Configuration\r\n",
        "DATA_PATH = '/content/drive/MyDrive/CAPSTONE PROJECT MAIN/GANs/allcirclef'\r\n",
        "EPOCHS = 80\r\n",
        "BATCH_SIZE = 1\r\n",
        "BUFFER_SIZE = 1000\r\n",
        "\r\n",
        "print(f\"Will generate {GENERATE_SQUARE}px square images.\")"
      ],
      "execution_count": null,
      "outputs": [
        {
          "output_type": "stream",
          "text": [
            "Will generate 96px square images.\n"
          ],
          "name": "stdout"
        }
      ]
    },
    {
      "cell_type": "code",
      "metadata": {
        "colab": {
          "base_uri": "https://localhost:8080/"
        },
        "id": "Yw5PiKZau0iB",
        "outputId": "4c254702-4e8b-49bf-a9de-c16dd7515f5f"
      },
      "source": [
        "DATA_PATH1 = '/content/drive/MyDrive/CAPSTONE PROJECT MAIN/GANs/allcirclef/allcircle'\r\n",
        "print(    len([name for name in os.listdir(DATA_PATH1)])    )"
      ],
      "execution_count": null,
      "outputs": [
        {
          "output_type": "stream",
          "text": [
            "335\n"
          ],
          "name": "stdout"
        }
      ]
    },
    {
      "cell_type": "code",
      "metadata": {
        "colab": {
          "base_uri": "https://localhost:8080/"
        },
        "id": "bASB8sfOu5BG",
        "outputId": "e6135700-1296-4f59-a2b3-22411fc95b6a"
      },
      "source": [
        "training_binary_path = os.path.join(DATA_PATH,\r\n",
        "        f'training_data_{GENERATE_SQUARE}_{GENERATE_SQUARE}.npy')\r\n",
        "\r\n",
        "print(f\"Looking for file: {training_binary_path}\")\r\n",
        "\r\n",
        "if not os.path.isfile(training_binary_path):\r\n",
        "  start = time.time()\r\n",
        "  print(\"Loading training images...\")\r\n",
        "\r\n",
        "  training_data = []\r\n",
        "  faces_path = os.path.join(DATA_PATH,'allcircle')\r\n",
        "  for filename in tqdm(os.listdir(faces_path)):\r\n",
        "      path = os.path.join(faces_path,filename)\r\n",
        "      image = Image.open(path).resize((GENERATE_SQUARE,\r\n",
        "            GENERATE_SQUARE),Image.ANTIALIAS)\r\n",
        "      if image.mode == \"RGB\":\r\n",
        "        training_data.append(np.asarray(image))\r\n",
        "  training_data = np.reshape(training_data,(-1,GENERATE_SQUARE,\r\n",
        "            GENERATE_SQUARE,IMAGE_CHANNELS))\r\n",
        "  training_data = training_data.astype(np.float32)\r\n",
        "  training_data = training_data / 127.5 - 1.\r\n",
        "\r\n",
        "\r\n",
        "  print(\"Saving training image binary...\")\r\n",
        "  np.save(training_binary_path,training_data)\r\n",
        "  elapsed = time.time()-start\r\n",
        "else:\r\n",
        "  print(\"Loading previous training pickle...\")\r\n",
        "  training_data = np.load(training_binary_path)"
      ],
      "execution_count": null,
      "outputs": [
        {
          "output_type": "stream",
          "text": [
            "\r  0%|          | 0/335 [00:00<?, ?it/s]"
          ],
          "name": "stderr"
        },
        {
          "output_type": "stream",
          "text": [
            "Looking for file: /content/drive/MyDrive/CAPSTONE PROJECT MAIN/GANs/allcirclef/training_data_96_96.npy\n",
            "Loading training images...\n"
          ],
          "name": "stdout"
        },
        {
          "output_type": "stream",
          "text": [
            "100%|██████████| 335/335 [02:43<00:00,  2.04it/s]"
          ],
          "name": "stderr"
        },
        {
          "output_type": "stream",
          "text": [
            "Saving training image binary...\n"
          ],
          "name": "stdout"
        },
        {
          "output_type": "stream",
          "text": [
            "\n"
          ],
          "name": "stderr"
        }
      ]
    },
    {
      "cell_type": "code",
      "metadata": {
        "id": "7crihLM7xd-N"
      },
      "source": [
        "# Batch and shuffle the data\r\n",
        "# training_data has the binary numpy array of all the images\r\n",
        "train_dataset = tf.data.Dataset.from_tensor_slices(training_data) \\\r\n",
        "    .shuffle(BUFFER_SIZE).batch(BATCH_SIZE)"
      ],
      "execution_count": null,
      "outputs": []
    },
    {
      "cell_type": "code",
      "metadata": {
        "id": "jQTrOfmRxndM"
      },
      "source": [
        "def build_generator(seed_size, channels):\r\n",
        "    model = Sequential()\r\n",
        "\r\n",
        "    model.add(Dense(4*4*1024,activation=\"relu\",input_dim=seed_size))\r\n",
        "    model.add(Reshape((4,4,1024)))\r\n",
        "\r\n",
        "    model.add(UpSampling2D()) #8x8\r\n",
        "    model.add(Conv2D(512,kernel_size=3,padding=\"same\"))\r\n",
        "    model.add(BatchNormalization(momentum=0.8))\r\n",
        "    model.add(Activation(\"relu\"))\r\n",
        "\r\n",
        "    model.add(UpSampling2D()) #16x16\r\n",
        "    model.add(Conv2D(256,kernel_size=3,padding=\"same\"))\r\n",
        "    model.add(BatchNormalization(momentum=0.8))\r\n",
        "    model.add(Activation(\"relu\"))\r\n",
        "   \r\n",
        "    # Output resolution, additional upsampling\r\n",
        "    model.add(UpSampling2D()) #32x32\r\n",
        "    model.add(Conv2D(128,kernel_size=3,padding=\"same\"))\r\n",
        "    model.add(BatchNormalization(momentum=0.8))\r\n",
        "    model.add(Activation(\"relu\"))\r\n",
        "\r\n",
        "    if GENERATE_RES>1:\r\n",
        "      model.add(UpSampling2D(size=(GENERATE_RES,GENERATE_RES))) #96x96\r\n",
        "      model.add(Conv2D(128,kernel_size=3,padding=\"same\"))\r\n",
        "      model.add(BatchNormalization(momentum=0.8))\r\n",
        "      model.add(Activation(\"relu\"))\r\n",
        "\r\n",
        "    # Final CNN layer\r\n",
        "    model.add(Conv2D(channels,kernel_size=3,padding=\"same\"))\r\n",
        "    model.add(Activation(\"tanh\"))\r\n",
        "    return model\r\n",
        "\r\n",
        "\r\n",
        "def build_discriminator(image_shape):\r\n",
        "    model = Sequential()\r\n",
        "\r\n",
        "    model.add(Conv2D(32, kernel_size=3, strides=2, input_shape=image_shape, \r\n",
        "                     padding=\"same\"))\r\n",
        "    model.add(LeakyReLU(alpha=0.2))\r\n",
        "\r\n",
        "    model.add(Dropout(0.25))\r\n",
        "    model.add(Conv2D(64, kernel_size=3, strides=2, padding=\"same\"))\r\n",
        "    model.add(ZeroPadding2D(padding=((0,1),(0,1))))\r\n",
        "    model.add(BatchNormalization(momentum=0.8))\r\n",
        "    model.add(LeakyReLU(alpha=0.2))\r\n",
        "\r\n",
        "    model.add(Dropout(0.25))\r\n",
        "    model.add(Conv2D(128, kernel_size=3, strides=2, padding=\"same\"))\r\n",
        "    model.add(BatchNormalization(momentum=0.8))\r\n",
        "    model.add(LeakyReLU(alpha=0.2))\r\n",
        "\r\n",
        "    model.add(Dropout(0.25))\r\n",
        "    model.add(Conv2D(256, kernel_size=3, strides=1, padding=\"same\"))\r\n",
        "    model.add(BatchNormalization(momentum=0.8))\r\n",
        "    model.add(LeakyReLU(alpha=0.2))\r\n",
        "\r\n",
        "    model.add(Dropout(0.25))\r\n",
        "    model.add(Conv2D(512, kernel_size=3, strides=1, padding=\"same\"))\r\n",
        "    model.add(BatchNormalization(momentum=0.8))\r\n",
        "    model.add(LeakyReLU(alpha=0.2))\r\n",
        "\r\n",
        "    model.add(Dropout(0.25))\r\n",
        "    model.add(Flatten())\r\n",
        "    model.add(Dense(1, activation='sigmoid'))\r\n",
        "    return model"
      ],
      "execution_count": null,
      "outputs": []
    },
    {
      "cell_type": "code",
      "metadata": {
        "id": "KUJPSDFAxvex"
      },
      "source": [
        "def save_images(cnt,noise):\r\n",
        "  image_array = np.full((NUMBER_IMAGES, GENERATE_SQUARE, GENERATE_SQUARE, 3), 255, dtype = np.uint8)\r\n",
        "  \r\n",
        "  # after updation of the generator model, send a random noise image and obtain the generated image\r\n",
        "  generated_images = generator.predict(noise)\r\n",
        "  generated_images = 0.5 * generated_images + 0.5\r\n",
        "\r\n",
        "  image_count = 0;\r\n",
        "  for images in image_array:\r\n",
        "    images[0:GENERATE_SQUARE, 0:GENERATE_SQUARE] = generated_images[image_count] * 255\r\n",
        "    image_count += 1\r\n",
        "    output_path = os.path.join(DATA_PATH,'output')\r\n",
        "    if not os.path.exists(output_path):\r\n",
        "      os.makedirs(output_path)\r\n",
        "    filename = os.path.join(output_path,f\"epoch-{cnt}-train-{image_count}.png\")\r\n",
        "    im = Image.fromarray(images)\r\n",
        "    im.save(filename)"
      ],
      "execution_count": null,
      "outputs": []
    },
    {
      "cell_type": "code",
      "metadata": {
        "colab": {
          "base_uri": "https://localhost:8080/",
          "height": 285
        },
        "id": "Jp3lkt7AygU3",
        "outputId": "768a6de7-b2ac-447c-de53-3497ab9de0b8"
      },
      "source": [
        "generator = build_generator(SEED_SIZE, IMAGE_CHANNELS)\r\n",
        "img_arr = np.full((NUMBER_IMAGES, GENERATE_SQUARE, GENERATE_SQUARE, 3), 255, dtype = np.uint8)\r\n",
        "noise = tf.random.normal([1, SEED_SIZE])\r\n",
        "generated_image = generator(noise, training=False)\r\n",
        "img_arr[0:GENERATE_SQUARE, 0:GENERATE_SQUARE] = generated_image * 255\r\n",
        "plt.imshow(img_arr[0, :, :, ])"
      ],
      "execution_count": null,
      "outputs": [
        {
          "output_type": "execute_result",
          "data": {
            "text/plain": [
              "<matplotlib.image.AxesImage at 0x7f17f0485c18>"
            ]
          },
          "metadata": {
            "tags": []
          },
          "execution_count": 10
        },
        {
          "output_type": "display_data",
          "data": {
            "image/png": "[encoded data removed]",
            "text/plain": [
              "<Figure size 432x288 with 1 Axes>"
            ]
          },
          "metadata": {
            "tags": [],
            "needs_background": "light"
          }
        }
      ]
    },
    {
      "cell_type": "code",
      "metadata": {
        "colab": {
          "base_uri": "https://localhost:8080/"
        },
        "id": "Eo1Mtu9UyowE",
        "outputId": "fdc03cca-fb9d-4a3f-9ad2-09e75d367874"
      },
      "source": [
        "image_shape = (GENERATE_SQUARE,GENERATE_SQUARE,IMAGE_CHANNELS)\r\n",
        "\r\n",
        "discriminator = build_discriminator(image_shape)\r\n",
        "decision = discriminator(generated_image)\r\n",
        "print (decision)"
      ],
      "execution_count": null,
      "outputs": [
        {
          "output_type": "stream",
          "text": [
            "tf.Tensor([[0.4999255]], shape=(1, 1), dtype=float32)\n"
          ],
          "name": "stdout"
        }
      ]
    },
    {
      "cell_type": "code",
      "metadata": {
        "id": "M3jPxEe1yvXl"
      },
      "source": [
        "cross_entropy = tf.keras.losses.BinaryCrossentropy()\r\n",
        "\r\n",
        "def discriminator_loss(real_output, fake_output):\r\n",
        "    real_loss = cross_entropy(tf.ones_like(real_output), real_output)\r\n",
        "    fake_loss = cross_entropy(tf.zeros_like(fake_output), fake_output)\r\n",
        "    total_loss = real_loss + fake_loss\r\n",
        "    return total_loss\r\n",
        "\r\n",
        "def generator_loss(fake_output):\r\n",
        "    return cross_entropy(tf.ones_like(fake_output), fake_output)"
      ],
      "execution_count": null,
      "outputs": []
    },
    {
      "cell_type": "code",
      "metadata": {
        "id": "e_USeh4fzOL3"
      },
      "source": [
        "generator_optimizer = tf.keras.optimizers.Adam(1.5e-4,0.5)\r\n",
        "discriminator_optimizer = tf.keras.optimizers.Adam(1.5e-4,0.5)"
      ],
      "execution_count": null,
      "outputs": []
    },
    {
      "cell_type": "code",
      "metadata": {
        "id": "s5UQkZUNzQCj"
      },
      "source": [
        "@tf.function\r\n",
        "def train_step(images):\r\n",
        "  #  tf.random.normal(shape, mean=0.0, stddev=1.0, dtype=tf.dtypes.float32, seed=None, name=None)\r\n",
        "  #  32x100 -> each row has 100 normal distrubutions with mean = 0 and stddev = 1\r\n",
        "  seed = tf.random.normal([BATCH_SIZE, SEED_SIZE])\r\n",
        "\r\n",
        "  with tf.GradientTape() as gen_tape, tf.GradientTape() as disc_tape:\r\n",
        "    generated_images = generator(seed, training=True)\r\n",
        "\r\n",
        "    real_output = discriminator(images, training=True)\r\n",
        "    fake_output = discriminator(generated_images, training=True)\r\n",
        "\r\n",
        "    gen_loss = generator_loss(fake_output)\r\n",
        "    disc_loss = discriminator_loss(real_output, fake_output)\r\n",
        "    \r\n",
        "\r\n",
        "    gradients_of_generator = gen_tape.gradient(\\\r\n",
        "        gen_loss, generator.trainable_variables)\r\n",
        "    gradients_of_discriminator = disc_tape.gradient(\\\r\n",
        "        disc_loss, discriminator.trainable_variables)\r\n",
        "\r\n",
        "    generator_optimizer.apply_gradients(zip(\r\n",
        "        gradients_of_generator, generator.trainable_variables))\r\n",
        "    discriminator_optimizer.apply_gradients(zip(\r\n",
        "        gradients_of_discriminator, \r\n",
        "        discriminator.trainable_variables))\r\n",
        "  return gen_loss,disc_loss"
      ],
      "execution_count": null,
      "outputs": []
    },
    {
      "cell_type": "code",
      "metadata": {
        "id": "iv_nAUvmzTPs"
      },
      "source": [
        "def train(dataset, epochs):\r\n",
        "  # np.random.normal(mean, standard deviation, (28, 100)) -> normal distribution (mean 0, std dev 1) of 28x100\r\n",
        "  # has 28 arrays of 100 values each\r\n",
        "  # fixed_seed = np.random.normal(0, 1, (PREVIEW_ROWS * PREVIEW_COLS, \r\n",
        "  #                                      SEED_SIZE))\r\n",
        "  \r\n",
        "  fixed_seed = np.random.normal(0, 1, (NUMBER_IMAGES, SEED_SIZE))\r\n",
        "\r\n",
        "  for epoch in range(epochs):\r\n",
        "\r\n",
        "    gen_loss_list = []\r\n",
        "    disc_loss_list = []\r\n",
        "\r\n",
        "    # dataset has entire images that are grouped into batches of 32\r\n",
        "    # executes 7864/32 = 250 times for every epoch\r\n",
        "    # executes for every batch of np img array in dataset\r\n",
        "    # you send 32x100\r\n",
        "    for image_batch in dataset:\r\n",
        "      t = train_step(image_batch)  # sending in batches of numpy array of images to train_step function, which will return gen loss and disc loss\r\n",
        "      # train_step will train the generator by itself\r\n",
        "\r\n",
        "      gen_loss_list.append(t[0])   # this is to just calculate the gen loss and disc loss at the end of every epoch\r\n",
        "      disc_loss_list.append(t[1])  # you just append and then take avg later\r\n",
        "      \r\n",
        "    g_loss = sum(gen_loss_list) / len(gen_loss_list)\r\n",
        "    d_loss = sum(disc_loss_list) / len(disc_loss_list)\r\n",
        "    print (f'Epoch {epoch+1}, gen loss={g_loss},disc loss={d_loss}')\r\n",
        "\r\n",
        "    # executes for 50 times after all epochs\r\n",
        "    if(epoch == 10 or epoch == 20 or epoch == 30 or epoch == 40 or epoch == 50 or epoch == 60 or epoch == 70 or epoch == 80):\r\n",
        "      save_images(epoch,fixed_seed)"
      ],
      "execution_count": null,
      "outputs": []
    },
    {
      "cell_type": "code",
      "metadata": {
        "colab": {
          "base_uri": "https://localhost:8080/"
        },
        "id": "s1zgyYq509Cj",
        "outputId": "cba5a1c4-7b20-4ce8-954e-bd17edfc6cfd"
      },
      "source": [
        "train(train_dataset, EPOCHS)"
      ],
      "execution_count": null,
      "outputs": [
        {
          "output_type": "stream",
          "text": [
            "Epoch 1, gen loss=1.6131384372711182,disc loss=1.8266539573669434\n",
            "Epoch 2, gen loss=2.4132466316223145,disc loss=2.0933847427368164\n",
            "Epoch 3, gen loss=2.2713377475738525,disc loss=2.341966152191162\n",
            "Epoch 4, gen loss=3.008202314376831,disc loss=2.225043535232544\n",
            "Epoch 5, gen loss=3.207491159439087,disc loss=2.4345808029174805\n",
            "Epoch 6, gen loss=3.1321065425872803,disc loss=2.6126840114593506\n",
            "Epoch 7, gen loss=2.939634323120117,disc loss=2.4756505489349365\n",
            "Epoch 8, gen loss=3.1636128425598145,disc loss=2.2567758560180664\n",
            "Epoch 9, gen loss=3.1027722358703613,disc loss=2.504903793334961\n",
            "Epoch 10, gen loss=3.5175082683563232,disc loss=2.2502365112304688\n",
            "Epoch 11, gen loss=3.379385232925415,disc loss=2.2633285522460938\n",
            "Epoch 12, gen loss=3.3094706535339355,disc loss=2.337829113006592\n",
            "Epoch 13, gen loss=3.8673572540283203,disc loss=2.516649007797241\n",
            "Epoch 14, gen loss=3.2474780082702637,disc loss=2.160308599472046\n",
            "Epoch 15, gen loss=3.7723376750946045,disc loss=2.0269558429718018\n",
            "Epoch 16, gen loss=3.4124112129211426,disc loss=2.028827667236328\n",
            "Epoch 17, gen loss=3.930285692214966,disc loss=1.9211724996566772\n",
            "Epoch 18, gen loss=3.896275281906128,disc loss=1.915772795677185\n",
            "Epoch 19, gen loss=4.195489883422852,disc loss=1.847181797027588\n",
            "Epoch 20, gen loss=3.8669981956481934,disc loss=2.24787974357605\n",
            "Epoch 21, gen loss=3.725120782852173,disc loss=2.3862180709838867\n",
            "Epoch 22, gen loss=3.2930026054382324,disc loss=1.5905193090438843\n",
            "Epoch 23, gen loss=3.6078476905822754,disc loss=1.4602333307266235\n",
            "Epoch 24, gen loss=3.799126386642456,disc loss=2.0087029933929443\n",
            "Epoch 25, gen loss=4.006896495819092,disc loss=1.8845429420471191\n",
            "Epoch 26, gen loss=2.8164420127868652,disc loss=2.104534149169922\n",
            "Epoch 27, gen loss=3.067465305328369,disc loss=1.5830776691436768\n",
            "Epoch 28, gen loss=2.9591715335845947,disc loss=1.7651746273040771\n",
            "Epoch 29, gen loss=3.144615411758423,disc loss=1.8202778100967407\n",
            "Epoch 30, gen loss=3.290234327316284,disc loss=1.4933102130889893\n",
            "Epoch 31, gen loss=3.0843329429626465,disc loss=1.565245270729065\n",
            "Epoch 32, gen loss=3.158245325088501,disc loss=1.5980547666549683\n",
            "Epoch 33, gen loss=3.2836196422576904,disc loss=2.0287270545959473\n",
            "Epoch 34, gen loss=2.4833803176879883,disc loss=1.6321008205413818\n",
            "Epoch 35, gen loss=2.8990261554718018,disc loss=1.5021463632583618\n",
            "Epoch 36, gen loss=2.674457311630249,disc loss=1.5109622478485107\n",
            "Epoch 37, gen loss=2.887258768081665,disc loss=1.420066237449646\n",
            "Epoch 38, gen loss=2.727372884750366,disc loss=1.6305230855941772\n",
            "Epoch 39, gen loss=3.2647995948791504,disc loss=1.4344251155853271\n",
            "Epoch 40, gen loss=3.27582049369812,disc loss=1.8936744928359985\n",
            "Epoch 41, gen loss=2.5967912673950195,disc loss=1.6806789636611938\n",
            "Epoch 42, gen loss=2.3149352073669434,disc loss=1.4655624628067017\n",
            "Epoch 43, gen loss=2.358351469039917,disc loss=1.285822868347168\n",
            "Epoch 44, gen loss=2.339784622192383,disc loss=1.5108486413955688\n",
            "Epoch 45, gen loss=2.500734567642212,disc loss=1.259752869606018\n",
            "Epoch 46, gen loss=2.3811774253845215,disc loss=1.2027537822723389\n",
            "Epoch 47, gen loss=2.6872260570526123,disc loss=1.2235325574874878\n",
            "Epoch 48, gen loss=2.8574929237365723,disc loss=1.3938572406768799\n",
            "Epoch 49, gen loss=2.446892261505127,disc loss=1.2467824220657349\n",
            "Epoch 50, gen loss=2.916729211807251,disc loss=1.3389123678207397\n",
            "Epoch 51, gen loss=2.378772258758545,disc loss=1.2338459491729736\n",
            "Epoch 52, gen loss=2.376858949661255,disc loss=1.186350703239441\n",
            "Epoch 53, gen loss=2.7651093006134033,disc loss=1.38949716091156\n",
            "Epoch 54, gen loss=2.2187423706054688,disc loss=1.2035531997680664\n",
            "Epoch 55, gen loss=2.4723570346832275,disc loss=1.2092535495758057\n",
            "Epoch 56, gen loss=2.5319461822509766,disc loss=1.1889714002609253\n",
            "Epoch 57, gen loss=2.815004348754883,disc loss=1.0934977531433105\n",
            "Epoch 58, gen loss=2.757384777069092,disc loss=1.3968318700790405\n",
            "Epoch 59, gen loss=2.3912971019744873,disc loss=1.0734529495239258\n",
            "Epoch 60, gen loss=2.456488847732544,disc loss=1.0293043851852417\n",
            "Epoch 61, gen loss=2.7907626628875732,disc loss=0.9712943434715271\n",
            "Epoch 62, gen loss=2.8034369945526123,disc loss=1.1197497844696045\n",
            "Epoch 63, gen loss=2.4724478721618652,disc loss=1.0306932926177979\n",
            "Epoch 64, gen loss=2.5514960289001465,disc loss=0.9441152215003967\n",
            "Epoch 65, gen loss=2.623546838760376,disc loss=1.049035906791687\n",
            "Epoch 66, gen loss=2.942307949066162,disc loss=0.8623451590538025\n",
            "Epoch 67, gen loss=2.9267687797546387,disc loss=1.0685471296310425\n",
            "Epoch 68, gen loss=2.484091281890869,disc loss=1.08632230758667\n",
            "Epoch 69, gen loss=2.7034292221069336,disc loss=0.8652691841125488\n",
            "Epoch 70, gen loss=2.6002683639526367,disc loss=1.0126343965530396\n",
            "Epoch 71, gen loss=3.1242411136627197,disc loss=0.8420079350471497\n",
            "Epoch 72, gen loss=3.166680097579956,disc loss=1.200677514076233\n",
            "Epoch 73, gen loss=2.8462576866149902,disc loss=1.0015451908111572\n",
            "Epoch 74, gen loss=2.769835948944092,disc loss=1.0176706314086914\n",
            "Epoch 75, gen loss=2.7185680866241455,disc loss=0.8636183142662048\n",
            "Epoch 76, gen loss=2.6621105670928955,disc loss=0.8086076974868774\n",
            "Epoch 77, gen loss=3.025635242462158,disc loss=0.7787163853645325\n",
            "Epoch 78, gen loss=2.926347017288208,disc loss=0.8144833445549011\n",
            "Epoch 79, gen loss=2.8878707885742188,disc loss=0.7695035338401794\n",
            "Epoch 80, gen loss=3.4586570262908936,disc loss=0.951977014541626\n"
          ],
          "name": "stdout"
        }
      ]
    },
    {
      "cell_type": "code",
      "metadata": {
        "id": "6KHTjvFf1htY"
      },
      "source": [
        "generator.save(os.path.join(DATA_PATH,\"face_generator.h5\"))\r\n",
        "discriminator.save(os.path.join(DATA_PATH, \"face_discriminator.h5\"))"
      ],
      "execution_count": null,
      "outputs": []
    },
    {
      "cell_type": "code",
      "metadata": {
        "id": "0FP7JMcUDO-G"
      },
      "source": [
        "# calling the trained model again with appropriate name\r\n",
        "# new_generator = tf.keras.models.load_model(os.path.join(DATA_PATH, \"face_generator.h5\"))"
      ],
      "execution_count": null,
      "outputs": []
    }
  ]
}